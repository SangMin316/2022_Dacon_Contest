{
  "cells": [
    {
      "cell_type": "markdown",
      "metadata": {
        "id": "view-in-github",
        "colab_type": "text"
      },
      "source": [
        "<a href=\"https://colab.research.google.com/github/SangMin316/2022_Dacon_Contest/blob/main/mbti_500_Linear_support_vector_classifier.ipynb\" target=\"_parent\"><img src=\"https://colab.research.google.com/assets/colab-badge.svg\" alt=\"Open In Colab\"/></a>"
      ]
    },
    {
      "cell_type": "markdown",
      "id": "b895dce9",
      "metadata": {
        "papermill": {
          "duration": 0.05475,
          "end_time": "2022-01-24T11:33:29.924313",
          "exception": false,
          "start_time": "2022-01-24T11:33:29.869563",
          "status": "completed"
        },
        "tags": [],
        "id": "b895dce9"
      },
      "source": [
        "# Importing libraries"
      ]
    },
    {
      "cell_type": "code",
      "execution_count": null,
      "id": "8a7dec48",
      "metadata": {
        "execution": {
          "iopub.execute_input": "2022-01-24T11:33:30.043588Z",
          "iopub.status.busy": "2022-01-24T11:33:30.042577Z",
          "iopub.status.idle": "2022-01-24T11:33:41.485450Z",
          "shell.execute_reply": "2022-01-24T11:33:41.484703Z",
          "shell.execute_reply.started": "2022-01-23T18:31:19.199496Z"
        },
        "papermill": {
          "duration": 11.507019,
          "end_time": "2022-01-24T11:33:41.485611",
          "exception": false,
          "start_time": "2022-01-24T11:33:29.978592",
          "status": "completed"
        },
        "tags": [],
        "id": "8a7dec48"
      },
      "outputs": [],
      "source": [
        "import pandas as pd\n",
        "from sklearn.feature_extraction.text import TfidfVectorizer\n",
        "from sklearn.svm import LinearSVC\n",
        "from sklearn.pipeline import Pipeline\n",
        "from sklearn import metrics\n",
        "from sklearn.metrics import classification_report, f1_score\n",
        "import pickle\n",
        "import os.path\n",
        "import plotly.offline as pyo\n",
        "import plotly.graph_objs as go\n",
        "import spacy"
      ]
    },
    {
      "cell_type": "markdown",
      "id": "5fc24907",
      "metadata": {
        "papermill": {
          "duration": 0.052911,
          "end_time": "2022-01-24T11:33:42.225904",
          "exception": false,
          "start_time": "2022-01-24T11:33:42.172993",
          "status": "completed"
        },
        "tags": [],
        "id": "5fc24907"
      },
      "source": [
        "# Dataset"
      ]
    },
    {
      "cell_type": "markdown",
      "source": [
        "나의 구글 드라이브를 mount해준다."
      ],
      "metadata": {
        "id": "yOy5jUsugH5b"
      },
      "id": "yOy5jUsugH5b"
    },
    {
      "cell_type": "code",
      "source": [
        "from google.colab import drive\n",
        "drive.mount('/content/drive')"
      ],
      "metadata": {
        "colab": {
          "base_uri": "https://localhost:8080/"
        },
        "id": "FSoBK16DOv4p",
        "outputId": "c46d2d95-7a56-44ef-fce6-bef0b65104b8"
      },
      "id": "FSoBK16DOv4p",
      "execution_count": null,
      "outputs": [
        {
          "output_type": "stream",
          "name": "stdout",
          "text": [
            "Drive already mounted at /content/drive; to attempt to forcibly remount, call drive.mount(\"/content/drive\", force_remount=True).\n"
          ]
        }
      ]
    },
    {
      "cell_type": "markdown",
      "source": [
        "데이터를 불러옵니다.\n",
        "\n",
        "이때, 열의 이름을 'type','posts'로 지정해서 받아옵니다.\n"
      ],
      "metadata": {
        "id": "PZcXazYLgE7o"
      },
      "id": "PZcXazYLgE7o"
    },
    {
      "cell_type": "code",
      "execution_count": null,
      "id": "6b5210b4",
      "metadata": {
        "execution": {
          "iopub.execute_input": "2022-01-24T11:33:48.119965Z",
          "iopub.status.busy": "2022-01-24T11:33:48.119227Z",
          "iopub.status.idle": "2022-01-24T11:33:56.687051Z",
          "shell.execute_reply": "2022-01-24T11:33:56.686198Z",
          "shell.execute_reply.started": "2022-01-23T18:31:25.464226Z"
        },
        "papermill": {
          "duration": 8.632595,
          "end_time": "2022-01-24T11:33:56.687221",
          "exception": false,
          "start_time": "2022-01-24T11:33:48.054626",
          "status": "completed"
        },
        "tags": [],
        "id": "6b5210b4"
      },
      "outputs": [],
      "source": [
        "df = pd.read_csv('/content/drive/MyDrive/2022 big_data/dataset/MBTI_train.csv', names=[\"type\",\"posts\"])"
      ]
    },
    {
      "cell_type": "code",
      "execution_count": null,
      "id": "2dfbd2fb",
      "metadata": {
        "execution": {
          "iopub.execute_input": "2022-01-24T11:33:56.813407Z",
          "iopub.status.busy": "2022-01-24T11:33:56.812694Z",
          "iopub.status.idle": "2022-01-24T11:33:56.824529Z",
          "shell.execute_reply": "2022-01-24T11:33:56.825155Z",
          "shell.execute_reply.started": "2022-01-23T18:31:30.532958Z"
        },
        "papermill": {
          "duration": 0.080555,
          "end_time": "2022-01-24T11:33:56.825360",
          "exception": false,
          "start_time": "2022-01-24T11:33:56.744805",
          "status": "completed"
        },
        "tags": [],
        "colab": {
          "base_uri": "https://localhost:8080/",
          "height": 206
        },
        "id": "2dfbd2fb",
        "outputId": "f62c0be2-cf50-4601-d3ba-d4ccb6674ed1"
      },
      "outputs": [
        {
          "output_type": "execute_result",
          "data": {
            "text/html": [
              "\n",
              "  <div id=\"df-78561357-02fd-4661-b9f4-575fa7a8a9f7\">\n",
              "    <div class=\"colab-df-container\">\n",
              "      <div>\n",
              "<style scoped>\n",
              "    .dataframe tbody tr th:only-of-type {\n",
              "        vertical-align: middle;\n",
              "    }\n",
              "\n",
              "    .dataframe tbody tr th {\n",
              "        vertical-align: top;\n",
              "    }\n",
              "\n",
              "    .dataframe thead th {\n",
              "        text-align: right;\n",
              "    }\n",
              "</style>\n",
              "<table border=\"1\" class=\"dataframe\">\n",
              "  <thead>\n",
              "    <tr style=\"text-align: right;\">\n",
              "      <th></th>\n",
              "      <th>type</th>\n",
              "      <th>posts</th>\n",
              "    </tr>\n",
              "  </thead>\n",
              "  <tbody>\n",
              "    <tr>\n",
              "      <th>0</th>\n",
              "      <td>INTP</td>\n",
              "      <td>say process model list like subscriber channel...</td>\n",
              "    </tr>\n",
              "    <tr>\n",
              "      <th>1</th>\n",
              "      <td>INFJ</td>\n",
              "      <td>upon much manipulate retail finish like sacrif...</td>\n",
              "    </tr>\n",
              "    <tr>\n",
              "      <th>2</th>\n",
              "      <td>INFJ</td>\n",
              "      <td>fit yes certain bff social feel goal go know n...</td>\n",
              "    </tr>\n",
              "    <tr>\n",
              "      <th>3</th>\n",
              "      <td>INTJ</td>\n",
              "      <td>complete love within someone ideal joke solvea...</td>\n",
              "    </tr>\n",
              "    <tr>\n",
              "      <th>4</th>\n",
              "      <td>ENTJ</td>\n",
              "      <td>public strictly thing person x question person...</td>\n",
              "    </tr>\n",
              "  </tbody>\n",
              "</table>\n",
              "</div>\n",
              "      <button class=\"colab-df-convert\" onclick=\"convertToInteractive('df-78561357-02fd-4661-b9f4-575fa7a8a9f7')\"\n",
              "              title=\"Convert this dataframe to an interactive table.\"\n",
              "              style=\"display:none;\">\n",
              "        \n",
              "  <svg xmlns=\"http://www.w3.org/2000/svg\" height=\"24px\"viewBox=\"0 0 24 24\"\n",
              "       width=\"24px\">\n",
              "    <path d=\"M0 0h24v24H0V0z\" fill=\"none\"/>\n",
              "    <path d=\"M18.56 5.44l.94 2.06.94-2.06 2.06-.94-2.06-.94-.94-2.06-.94 2.06-2.06.94zm-11 1L8.5 8.5l.94-2.06 2.06-.94-2.06-.94L8.5 2.5l-.94 2.06-2.06.94zm10 10l.94 2.06.94-2.06 2.06-.94-2.06-.94-.94-2.06-.94 2.06-2.06.94z\"/><path d=\"M17.41 7.96l-1.37-1.37c-.4-.4-.92-.59-1.43-.59-.52 0-1.04.2-1.43.59L10.3 9.45l-7.72 7.72c-.78.78-.78 2.05 0 2.83L4 21.41c.39.39.9.59 1.41.59.51 0 1.02-.2 1.41-.59l7.78-7.78 2.81-2.81c.8-.78.8-2.07 0-2.86zM5.41 20L4 18.59l7.72-7.72 1.47 1.35L5.41 20z\"/>\n",
              "  </svg>\n",
              "      </button>\n",
              "      \n",
              "  <style>\n",
              "    .colab-df-container {\n",
              "      display:flex;\n",
              "      flex-wrap:wrap;\n",
              "      gap: 12px;\n",
              "    }\n",
              "\n",
              "    .colab-df-convert {\n",
              "      background-color: #E8F0FE;\n",
              "      border: none;\n",
              "      border-radius: 50%;\n",
              "      cursor: pointer;\n",
              "      display: none;\n",
              "      fill: #1967D2;\n",
              "      height: 32px;\n",
              "      padding: 0 0 0 0;\n",
              "      width: 32px;\n",
              "    }\n",
              "\n",
              "    .colab-df-convert:hover {\n",
              "      background-color: #E2EBFA;\n",
              "      box-shadow: 0px 1px 2px rgba(60, 64, 67, 0.3), 0px 1px 3px 1px rgba(60, 64, 67, 0.15);\n",
              "      fill: #174EA6;\n",
              "    }\n",
              "\n",
              "    [theme=dark] .colab-df-convert {\n",
              "      background-color: #3B4455;\n",
              "      fill: #D2E3FC;\n",
              "    }\n",
              "\n",
              "    [theme=dark] .colab-df-convert:hover {\n",
              "      background-color: #434B5C;\n",
              "      box-shadow: 0px 1px 3px 1px rgba(0, 0, 0, 0.15);\n",
              "      filter: drop-shadow(0px 1px 2px rgba(0, 0, 0, 0.3));\n",
              "      fill: #FFFFFF;\n",
              "    }\n",
              "  </style>\n",
              "\n",
              "      <script>\n",
              "        const buttonEl =\n",
              "          document.querySelector('#df-78561357-02fd-4661-b9f4-575fa7a8a9f7 button.colab-df-convert');\n",
              "        buttonEl.style.display =\n",
              "          google.colab.kernel.accessAllowed ? 'block' : 'none';\n",
              "\n",
              "        async function convertToInteractive(key) {\n",
              "          const element = document.querySelector('#df-78561357-02fd-4661-b9f4-575fa7a8a9f7');\n",
              "          const dataTable =\n",
              "            await google.colab.kernel.invokeFunction('convertToInteractive',\n",
              "                                                     [key], {});\n",
              "          if (!dataTable) return;\n",
              "\n",
              "          const docLinkHtml = 'Like what you see? Visit the ' +\n",
              "            '<a target=\"_blank\" href=https://colab.research.google.com/notebooks/data_table.ipynb>data table notebook</a>'\n",
              "            + ' to learn more about interactive tables.';\n",
              "          element.innerHTML = '';\n",
              "          dataTable['output_type'] = 'display_data';\n",
              "          await google.colab.output.renderOutput(dataTable, element);\n",
              "          const docLink = document.createElement('div');\n",
              "          docLink.innerHTML = docLinkHtml;\n",
              "          element.appendChild(docLink);\n",
              "        }\n",
              "      </script>\n",
              "    </div>\n",
              "  </div>\n",
              "  "
            ],
            "text/plain": [
              "   type                                              posts\n",
              "0  INTP  say process model list like subscriber channel...\n",
              "1  INFJ  upon much manipulate retail finish like sacrif...\n",
              "2  INFJ  fit yes certain bff social feel goal go know n...\n",
              "3  INTJ  complete love within someone ideal joke solvea...\n",
              "4  ENTJ  public strictly thing person x question person..."
            ]
          },
          "metadata": {},
          "execution_count": 23
        }
      ],
      "source": [
        "# 데이터 양상 확인하기\n",
        "df.head() "
      ]
    },
    {
      "cell_type": "code",
      "source": [
        "len(df['posts'][1])"
      ],
      "metadata": {
        "colab": {
          "base_uri": "https://localhost:8080/"
        },
        "id": "BPp0ouL0lCEB",
        "outputId": "f46afe15-c83b-40e9-a60b-d7349868d8f5"
      },
      "id": "BPp0ouL0lCEB",
      "execution_count": null,
      "outputs": [
        {
          "output_type": "execute_result",
          "data": {
            "text/plain": [
              "2530"
            ]
          },
          "metadata": {},
          "execution_count": 56
        }
      ]
    },
    {
      "cell_type": "code",
      "source": [
        "from tensorflow.keras.preprocessing.text import Tokenizer\n",
        "tokenizer = Tokenizer(num_words = 500)\n",
        "tokenizer.fit_on_texts(df['posts'][0])\n",
        "word_dic = tokenizer.word_index\n",
        "print(len(word_dic))\n"
      ],
      "metadata": {
        "colab": {
          "base_uri": "https://localhost:8080/"
        },
        "id": "Q_GE_CG-sacb",
        "outputId": "7fcb68f1-3b38-4bdc-986e-6dcf040396b2"
      },
      "id": "Q_GE_CG-sacb",
      "execution_count": null,
      "outputs": [
        {
          "output_type": "stream",
          "name": "stdout",
          "text": [
            "26\n"
          ]
        }
      ]
    },
    {
      "cell_type": "markdown",
      "source": [
        "type에는 mbti 16종류가 있음을 확인합니다."
      ],
      "metadata": {
        "id": "dQFcno9ZgvmH"
      },
      "id": "dQFcno9ZgvmH"
    },
    {
      "cell_type": "code",
      "execution_count": null,
      "id": "d9d2e8e4",
      "metadata": {
        "execution": {
          "iopub.execute_input": "2022-01-24T11:33:57.205535Z",
          "iopub.status.busy": "2022-01-24T11:33:57.198999Z",
          "iopub.status.idle": "2022-01-24T11:33:57.217842Z",
          "shell.execute_reply": "2022-01-24T11:33:57.218428Z",
          "shell.execute_reply.started": "2022-01-23T18:31:30.567286Z"
        },
        "papermill": {
          "duration": 0.081509,
          "end_time": "2022-01-24T11:33:57.218634",
          "exception": false,
          "start_time": "2022-01-24T11:33:57.137125",
          "status": "completed"
        },
        "tags": [],
        "colab": {
          "base_uri": "https://localhost:8080/"
        },
        "id": "d9d2e8e4",
        "outputId": "22682ebb-6220-4e75-995d-e60469582127"
      },
      "outputs": [
        {
          "output_type": "execute_result",
          "data": {
            "text/plain": [
              "array(['INTP', 'INFJ', 'INTJ', 'ENTJ', 'ENTP', 'INFP', 'ISTP', 'ISFJ',\n",
              "       'ENFP', 'ISFP', 'ISTJ', 'ENFJ', 'ESTP', 'ESFP', 'ESTJ', 'ESFJ'],\n",
              "      dtype=object)"
            ]
          },
          "metadata": {},
          "execution_count": 10
        }
      ],
      "source": [
        "df['type'].unique() "
      ]
    },
    {
      "cell_type": "markdown",
      "id": "7b2436f5",
      "metadata": {
        "papermill": {
          "duration": 0.056541,
          "end_time": "2022-01-24T11:33:57.467015",
          "exception": false,
          "start_time": "2022-01-24T11:33:57.410474",
          "status": "completed"
        },
        "tags": [],
        "id": "7b2436f5"
      },
      "source": [
        "##null값이 있는지 확인합니다."
      ]
    },
    {
      "cell_type": "code",
      "execution_count": null,
      "id": "902c8406",
      "metadata": {
        "execution": {
          "iopub.execute_input": "2022-01-24T11:33:57.617314Z",
          "iopub.status.busy": "2022-01-24T11:33:57.616551Z",
          "iopub.status.idle": "2022-01-24T11:33:57.622422Z",
          "shell.execute_reply": "2022-01-24T11:33:57.623047Z",
          "shell.execute_reply.started": "2022-01-23T18:31:30.604258Z"
        },
        "papermill": {
          "duration": 0.098632,
          "end_time": "2022-01-24T11:33:57.623222",
          "exception": false,
          "start_time": "2022-01-24T11:33:57.524590",
          "status": "completed"
        },
        "tags": [],
        "colab": {
          "base_uri": "https://localhost:8080/"
        },
        "id": "902c8406",
        "outputId": "ae084355-6cfd-4199-f49f-648d2410af51"
      },
      "outputs": [
        {
          "output_type": "execute_result",
          "data": {
            "text/plain": [
              "type     0\n",
              "posts    0\n",
              "dtype: int64"
            ]
          },
          "metadata": {},
          "execution_count": 12
        }
      ],
      "source": [
        "df.isnull().sum()\n"
      ]
    },
    {
      "cell_type": "markdown",
      "id": "035b3559",
      "metadata": {
        "papermill": {
          "duration": 0.057275,
          "end_time": "2022-01-24T11:33:57.737438",
          "exception": false,
          "start_time": "2022-01-24T11:33:57.680163",
          "status": "completed"
        },
        "tags": [],
        "id": "035b3559"
      },
      "source": [
        "# Drow mbti histogram."
      ]
    },
    {
      "cell_type": "code",
      "execution_count": null,
      "id": "fdf8e715",
      "metadata": {
        "execution": {
          "iopub.execute_input": "2022-01-24T11:33:57.853289Z",
          "iopub.status.busy": "2022-01-24T11:33:57.852618Z",
          "iopub.status.idle": "2022-01-24T11:33:58.012020Z",
          "shell.execute_reply": "2022-01-24T11:33:58.011323Z",
          "shell.execute_reply.started": "2022-01-23T18:31:30.646406Z"
        },
        "papermill": {
          "duration": 0.217902,
          "end_time": "2022-01-24T11:33:58.012173",
          "exception": false,
          "start_time": "2022-01-24T11:33:57.794271",
          "status": "completed"
        },
        "tags": [],
        "colab": {
          "base_uri": "https://localhost:8080/",
          "height": 542
        },
        "id": "fdf8e715",
        "outputId": "0a7a6008-a642-405d-87c7-3c0ae66ff9da"
      },
      "outputs": [
        {
          "output_type": "display_data",
          "data": {
            "text/html": [
              "<html>\n",
              "<head><meta charset=\"utf-8\" /></head>\n",
              "<body>\n",
              "    <div>            <script src=\"https://cdnjs.cloudflare.com/ajax/libs/mathjax/2.7.5/MathJax.js?config=TeX-AMS-MML_SVG\"></script><script type=\"text/javascript\">if (window.MathJax) {MathJax.Hub.Config({SVG: {font: \"STIX-Web\"}});}</script>                <script type=\"text/javascript\">window.PlotlyConfig = {MathJaxConfig: 'local'};</script>\n",
              "        <script src=\"https://cdn.plot.ly/plotly-2.8.3.min.js\"></script>                <div id=\"6abd9353-8414-4433-9d44-01b392b3c08a\" class=\"plotly-graph-div\" style=\"height:525px; width:100%;\"></div>            <script type=\"text/javascript\">                                    window.PLOTLYENV=window.PLOTLYENV || {};                                    if (document.getElementById(\"6abd9353-8414-4433-9d44-01b392b3c08a\")) {                    Plotly.newPlot(                        \"6abd9353-8414-4433-9d44-01b392b3c08a\",                        [{\"x\":[\"ENFJ\",\"ENFP\",\"ENTJ\",\"ENTP\",\"ESFJ\",\"ESFP\",\"ESTJ\",\"ESTP\",\"INFJ\",\"INFP\",\"INTJ\",\"INTP\",\"ISFJ\",\"ISFP\",\"ISTJ\",\"ISTP\"],\"y\":[1024,4338,2106,8303,119,252,71,814,10765,8444,16079,17690,460,620,878,2394],\"type\":\"bar\"}],                        {\"title\":{\"text\":\"MBTI # Classified Posts per Type\"},\"template\":{\"data\":{\"bar\":[{\"error_x\":{\"color\":\"#2a3f5f\"},\"error_y\":{\"color\":\"#2a3f5f\"},\"marker\":{\"line\":{\"color\":\"#E5ECF6\",\"width\":0.5},\"pattern\":{\"fillmode\":\"overlay\",\"size\":10,\"solidity\":0.2}},\"type\":\"bar\"}],\"barpolar\":[{\"marker\":{\"line\":{\"color\":\"#E5ECF6\",\"width\":0.5},\"pattern\":{\"fillmode\":\"overlay\",\"size\":10,\"solidity\":0.2}},\"type\":\"barpolar\"}],\"carpet\":[{\"aaxis\":{\"endlinecolor\":\"#2a3f5f\",\"gridcolor\":\"white\",\"linecolor\":\"white\",\"minorgridcolor\":\"white\",\"startlinecolor\":\"#2a3f5f\"},\"baxis\":{\"endlinecolor\":\"#2a3f5f\",\"gridcolor\":\"white\",\"linecolor\":\"white\",\"minorgridcolor\":\"white\",\"startlinecolor\":\"#2a3f5f\"},\"type\":\"carpet\"}],\"choropleth\":[{\"colorbar\":{\"outlinewidth\":0,\"ticks\":\"\"},\"type\":\"choropleth\"}],\"contour\":[{\"colorbar\":{\"outlinewidth\":0,\"ticks\":\"\"},\"colorscale\":[[0.0,\"#0d0887\"],[0.1111111111111111,\"#46039f\"],[0.2222222222222222,\"#7201a8\"],[0.3333333333333333,\"#9c179e\"],[0.4444444444444444,\"#bd3786\"],[0.5555555555555556,\"#d8576b\"],[0.6666666666666666,\"#ed7953\"],[0.7777777777777778,\"#fb9f3a\"],[0.8888888888888888,\"#fdca26\"],[1.0,\"#f0f921\"]],\"type\":\"contour\"}],\"contourcarpet\":[{\"colorbar\":{\"outlinewidth\":0,\"ticks\":\"\"},\"type\":\"contourcarpet\"}],\"heatmap\":[{\"colorbar\":{\"outlinewidth\":0,\"ticks\":\"\"},\"colorscale\":[[0.0,\"#0d0887\"],[0.1111111111111111,\"#46039f\"],[0.2222222222222222,\"#7201a8\"],[0.3333333333333333,\"#9c179e\"],[0.4444444444444444,\"#bd3786\"],[0.5555555555555556,\"#d8576b\"],[0.6666666666666666,\"#ed7953\"],[0.7777777777777778,\"#fb9f3a\"],[0.8888888888888888,\"#fdca26\"],[1.0,\"#f0f921\"]],\"type\":\"heatmap\"}],\"heatmapgl\":[{\"colorbar\":{\"outlinewidth\":0,\"ticks\":\"\"},\"colorscale\":[[0.0,\"#0d0887\"],[0.1111111111111111,\"#46039f\"],[0.2222222222222222,\"#7201a8\"],[0.3333333333333333,\"#9c179e\"],[0.4444444444444444,\"#bd3786\"],[0.5555555555555556,\"#d8576b\"],[0.6666666666666666,\"#ed7953\"],[0.7777777777777778,\"#fb9f3a\"],[0.8888888888888888,\"#fdca26\"],[1.0,\"#f0f921\"]],\"type\":\"heatmapgl\"}],\"histogram\":[{\"marker\":{\"pattern\":{\"fillmode\":\"overlay\",\"size\":10,\"solidity\":0.2}},\"type\":\"histogram\"}],\"histogram2d\":[{\"colorbar\":{\"outlinewidth\":0,\"ticks\":\"\"},\"colorscale\":[[0.0,\"#0d0887\"],[0.1111111111111111,\"#46039f\"],[0.2222222222222222,\"#7201a8\"],[0.3333333333333333,\"#9c179e\"],[0.4444444444444444,\"#bd3786\"],[0.5555555555555556,\"#d8576b\"],[0.6666666666666666,\"#ed7953\"],[0.7777777777777778,\"#fb9f3a\"],[0.8888888888888888,\"#fdca26\"],[1.0,\"#f0f921\"]],\"type\":\"histogram2d\"}],\"histogram2dcontour\":[{\"colorbar\":{\"outlinewidth\":0,\"ticks\":\"\"},\"colorscale\":[[0.0,\"#0d0887\"],[0.1111111111111111,\"#46039f\"],[0.2222222222222222,\"#7201a8\"],[0.3333333333333333,\"#9c179e\"],[0.4444444444444444,\"#bd3786\"],[0.5555555555555556,\"#d8576b\"],[0.6666666666666666,\"#ed7953\"],[0.7777777777777778,\"#fb9f3a\"],[0.8888888888888888,\"#fdca26\"],[1.0,\"#f0f921\"]],\"type\":\"histogram2dcontour\"}],\"mesh3d\":[{\"colorbar\":{\"outlinewidth\":0,\"ticks\":\"\"},\"type\":\"mesh3d\"}],\"parcoords\":[{\"line\":{\"colorbar\":{\"outlinewidth\":0,\"ticks\":\"\"}},\"type\":\"parcoords\"}],\"pie\":[{\"automargin\":true,\"type\":\"pie\"}],\"scatter\":[{\"marker\":{\"colorbar\":{\"outlinewidth\":0,\"ticks\":\"\"}},\"type\":\"scatter\"}],\"scatter3d\":[{\"line\":{\"colorbar\":{\"outlinewidth\":0,\"ticks\":\"\"}},\"marker\":{\"colorbar\":{\"outlinewidth\":0,\"ticks\":\"\"}},\"type\":\"scatter3d\"}],\"scattercarpet\":[{\"marker\":{\"colorbar\":{\"outlinewidth\":0,\"ticks\":\"\"}},\"type\":\"scattercarpet\"}],\"scattergeo\":[{\"marker\":{\"colorbar\":{\"outlinewidth\":0,\"ticks\":\"\"}},\"type\":\"scattergeo\"}],\"scattergl\":[{\"marker\":{\"colorbar\":{\"outlinewidth\":0,\"ticks\":\"\"}},\"type\":\"scattergl\"}],\"scattermapbox\":[{\"marker\":{\"colorbar\":{\"outlinewidth\":0,\"ticks\":\"\"}},\"type\":\"scattermapbox\"}],\"scatterpolar\":[{\"marker\":{\"colorbar\":{\"outlinewidth\":0,\"ticks\":\"\"}},\"type\":\"scatterpolar\"}],\"scatterpolargl\":[{\"marker\":{\"colorbar\":{\"outlinewidth\":0,\"ticks\":\"\"}},\"type\":\"scatterpolargl\"}],\"scatterternary\":[{\"marker\":{\"colorbar\":{\"outlinewidth\":0,\"ticks\":\"\"}},\"type\":\"scatterternary\"}],\"surface\":[{\"colorbar\":{\"outlinewidth\":0,\"ticks\":\"\"},\"colorscale\":[[0.0,\"#0d0887\"],[0.1111111111111111,\"#46039f\"],[0.2222222222222222,\"#7201a8\"],[0.3333333333333333,\"#9c179e\"],[0.4444444444444444,\"#bd3786\"],[0.5555555555555556,\"#d8576b\"],[0.6666666666666666,\"#ed7953\"],[0.7777777777777778,\"#fb9f3a\"],[0.8888888888888888,\"#fdca26\"],[1.0,\"#f0f921\"]],\"type\":\"surface\"}],\"table\":[{\"cells\":{\"fill\":{\"color\":\"#EBF0F8\"},\"line\":{\"color\":\"white\"}},\"header\":{\"fill\":{\"color\":\"#C8D4E3\"},\"line\":{\"color\":\"white\"}},\"type\":\"table\"}]},\"layout\":{\"annotationdefaults\":{\"arrowcolor\":\"#2a3f5f\",\"arrowhead\":0,\"arrowwidth\":1},\"autotypenumbers\":\"strict\",\"coloraxis\":{\"colorbar\":{\"outlinewidth\":0,\"ticks\":\"\"}},\"colorscale\":{\"diverging\":[[0,\"#8e0152\"],[0.1,\"#c51b7d\"],[0.2,\"#de77ae\"],[0.3,\"#f1b6da\"],[0.4,\"#fde0ef\"],[0.5,\"#f7f7f7\"],[0.6,\"#e6f5d0\"],[0.7,\"#b8e186\"],[0.8,\"#7fbc41\"],[0.9,\"#4d9221\"],[1,\"#276419\"]],\"sequential\":[[0.0,\"#0d0887\"],[0.1111111111111111,\"#46039f\"],[0.2222222222222222,\"#7201a8\"],[0.3333333333333333,\"#9c179e\"],[0.4444444444444444,\"#bd3786\"],[0.5555555555555556,\"#d8576b\"],[0.6666666666666666,\"#ed7953\"],[0.7777777777777778,\"#fb9f3a\"],[0.8888888888888888,\"#fdca26\"],[1.0,\"#f0f921\"]],\"sequentialminus\":[[0.0,\"#0d0887\"],[0.1111111111111111,\"#46039f\"],[0.2222222222222222,\"#7201a8\"],[0.3333333333333333,\"#9c179e\"],[0.4444444444444444,\"#bd3786\"],[0.5555555555555556,\"#d8576b\"],[0.6666666666666666,\"#ed7953\"],[0.7777777777777778,\"#fb9f3a\"],[0.8888888888888888,\"#fdca26\"],[1.0,\"#f0f921\"]]},\"colorway\":[\"#636efa\",\"#EF553B\",\"#00cc96\",\"#ab63fa\",\"#FFA15A\",\"#19d3f3\",\"#FF6692\",\"#B6E880\",\"#FF97FF\",\"#FECB52\"],\"font\":{\"color\":\"#2a3f5f\"},\"geo\":{\"bgcolor\":\"white\",\"lakecolor\":\"white\",\"landcolor\":\"#E5ECF6\",\"showlakes\":true,\"showland\":true,\"subunitcolor\":\"white\"},\"hoverlabel\":{\"align\":\"left\"},\"hovermode\":\"closest\",\"mapbox\":{\"style\":\"light\"},\"paper_bgcolor\":\"white\",\"plot_bgcolor\":\"#E5ECF6\",\"polar\":{\"angularaxis\":{\"gridcolor\":\"white\",\"linecolor\":\"white\",\"ticks\":\"\"},\"bgcolor\":\"#E5ECF6\",\"radialaxis\":{\"gridcolor\":\"white\",\"linecolor\":\"white\",\"ticks\":\"\"}},\"scene\":{\"xaxis\":{\"backgroundcolor\":\"#E5ECF6\",\"gridcolor\":\"white\",\"gridwidth\":2,\"linecolor\":\"white\",\"showbackground\":true,\"ticks\":\"\",\"zerolinecolor\":\"white\"},\"yaxis\":{\"backgroundcolor\":\"#E5ECF6\",\"gridcolor\":\"white\",\"gridwidth\":2,\"linecolor\":\"white\",\"showbackground\":true,\"ticks\":\"\",\"zerolinecolor\":\"white\"},\"zaxis\":{\"backgroundcolor\":\"#E5ECF6\",\"gridcolor\":\"white\",\"gridwidth\":2,\"linecolor\":\"white\",\"showbackground\":true,\"ticks\":\"\",\"zerolinecolor\":\"white\"}},\"shapedefaults\":{\"line\":{\"color\":\"#2a3f5f\"}},\"ternary\":{\"aaxis\":{\"gridcolor\":\"white\",\"linecolor\":\"white\",\"ticks\":\"\"},\"baxis\":{\"gridcolor\":\"white\",\"linecolor\":\"white\",\"ticks\":\"\"},\"bgcolor\":\"#E5ECF6\",\"caxis\":{\"gridcolor\":\"white\",\"linecolor\":\"white\",\"ticks\":\"\"}},\"title\":{\"x\":0.05},\"xaxis\":{\"automargin\":true,\"gridcolor\":\"white\",\"linecolor\":\"white\",\"ticks\":\"\",\"title\":{\"standoff\":15},\"zerolinecolor\":\"white\",\"zerolinewidth\":2},\"yaxis\":{\"automargin\":true,\"gridcolor\":\"white\",\"linecolor\":\"white\",\"ticks\":\"\",\"title\":{\"standoff\":15},\"zerolinecolor\":\"white\",\"zerolinewidth\":2}}}},                        {\"responsive\": true}                    ).then(function(){\n",
              "                            \n",
              "var gd = document.getElementById('6abd9353-8414-4433-9d44-01b392b3c08a');\n",
              "var x = new MutationObserver(function (mutations, observer) {{\n",
              "        var display = window.getComputedStyle(gd).display;\n",
              "        if (!display || display === 'none') {{\n",
              "            console.log([gd, 'removed!']);\n",
              "            Plotly.purge(gd);\n",
              "            observer.disconnect();\n",
              "        }}\n",
              "}});\n",
              "\n",
              "// Listen for the removal of the full notebook cells\n",
              "var notebookContainer = gd.closest('#notebook-container');\n",
              "if (notebookContainer) {{\n",
              "    x.observe(notebookContainer, {childList: true});\n",
              "}}\n",
              "\n",
              "// Listen for the clearing of the current output cell\n",
              "var outputEl = gd.closest('.output');\n",
              "if (outputEl) {{\n",
              "    x.observe(outputEl, {childList: true});\n",
              "}}\n",
              "\n",
              "                        })                };                            </script>        </div>\n",
              "</body>\n",
              "</html>"
            ]
          },
          "metadata": {}
        }
      ],
      "source": [
        "df_bar_chart=df.groupby('type').count()\n",
        "trace1 = go.Bar(x=df_bar_chart.index, y=df_bar_chart['posts'])\n",
        "data = [trace1]\n",
        "layout = go.Layout(title='MBTI # Classified Posts per Type')\n",
        "fig = go.Figure(data=data, layout=layout)\n",
        "fig.show()"
      ]
    },
    {
      "cell_type": "markdown",
      "id": "cd04e64e",
      "metadata": {
        "papermill": {
          "duration": 0.058247,
          "end_time": "2022-01-24T11:33:58.729942",
          "exception": false,
          "start_time": "2022-01-24T11:33:58.671695",
          "status": "completed"
        },
        "tags": [],
        "id": "cd04e64e"
      },
      "source": [
        "# Model"
      ]
    },
    {
      "cell_type": "markdown",
      "id": "52fa11bc",
      "metadata": {
        "papermill": {
          "duration": 0.05676,
          "end_time": "2022-01-24T11:33:59.432290",
          "exception": false,
          "start_time": "2022-01-24T11:33:59.375530",
          "status": "completed"
        },
        "tags": [],
        "id": "52fa11bc"
      },
      "source": [
        "# 저희는 모든 데이터를 학습에 사용했습니다.\n",
        "\n",
        "validation data를 따로 만들어주지 않았습니다.\n",
        "\n",
        "data 갯수가 부족한 class들이 존재하기 때문입니다. 안그래도 적은 데이터를 train과 valdiatation으로 나누기에는 위험요소가 있다가 판단했습니다."
      ]
    },
    {
      "cell_type": "code",
      "execution_count": null,
      "id": "73c75344",
      "metadata": {
        "execution": {
          "iopub.execute_input": "2022-01-24T11:33:59.556922Z",
          "iopub.status.busy": "2022-01-24T11:33:59.556169Z",
          "iopub.status.idle": "2022-01-24T11:33:59.582540Z",
          "shell.execute_reply": "2022-01-24T11:33:59.583082Z",
          "shell.execute_reply.started": "2022-01-23T18:31:30.764881Z"
        },
        "papermill": {
          "duration": 0.093136,
          "end_time": "2022-01-24T11:33:59.583273",
          "exception": false,
          "start_time": "2022-01-24T11:33:59.490137",
          "status": "completed"
        },
        "tags": [],
        "id": "73c75344"
      },
      "outputs": [],
      "source": [
        "X_train = df['posts'] # features\n",
        "y_train = df['type']  # labels"
      ]
    },
    {
      "cell_type": "markdown",
      "id": "b5ec387b",
      "metadata": {
        "papermill": {
          "duration": 0.056648,
          "end_time": "2022-01-24T11:33:59.699069",
          "exception": false,
          "start_time": "2022-01-24T11:33:59.642421",
          "status": "completed"
        },
        "tags": [],
        "id": "b5ec387b"
      },
      "source": [
        "# 모델을 만들어줍니다."
      ]
    },
    {
      "cell_type": "markdown",
      "source": [
        "# vectorize\n",
        "posts에 있는 단어들로 터를 만들어줍니다.\n",
        "\n",
        "tf-idf Vectorize를 이용합니다.\n",
        "\n",
        "전체 단어 셋에서의 빈도수를 고려해서, 특정 mbti 성격유형에서만 자주 등장하는\n",
        "단어에 가중치를 높이기 위해서입니다."
      ],
      "metadata": {
        "id": "gGjBlIMXiDh6"
      },
      "id": "gGjBlIMXiDh6"
    },
    {
      "cell_type": "code",
      "source": [
        "vectorizer = TfidfVectorizer()\n",
        "X_train_tfidf = vectorizer.fit_transform(X_train)"
      ],
      "metadata": {
        "id": "RalSFpYOiI-5"
      },
      "id": "RalSFpYOiI-5",
      "execution_count": null,
      "outputs": []
    },
    {
      "cell_type": "code",
      "source": [
        "X_train_tfidf"
      ],
      "metadata": {
        "colab": {
          "base_uri": "https://localhost:8080/"
        },
        "id": "Jo7Qj_D8tXNo",
        "outputId": "401cf20b-40c5-4729-b2a0-aa5565afe189"
      },
      "id": "Jo7Qj_D8tXNo",
      "execution_count": null,
      "outputs": [
        {
          "output_type": "execute_result",
          "data": {
            "text/plain": [
              "<74357x172439 sparse matrix of type '<class 'numpy.float64'>'\n",
              "\twith 21058879 stored elements in Compressed Sparse Row format>"
            ]
          },
          "metadata": {},
          "execution_count": 64
        }
      ]
    },
    {
      "cell_type": "markdown",
      "source": [
        "# Linear support vector classifier\n",
        "분류 문제이기 때문에 linear support vetor classifier를 사용합니다."
      ],
      "metadata": {
        "id": "jvsNAZNzj_KB"
      },
      "id": "jvsNAZNzj_KB"
    },
    {
      "cell_type": "code",
      "execution_count": null,
      "id": "6dfb0eef",
      "metadata": {
        "execution": {
          "iopub.execute_input": "2022-01-24T11:33:59.819713Z",
          "iopub.status.busy": "2022-01-24T11:33:59.819052Z",
          "iopub.status.idle": "2022-01-24T11:37:08.290963Z",
          "shell.execute_reply": "2022-01-24T11:37:08.290180Z",
          "shell.execute_reply.started": "2022-01-23T18:31:30.801132Z"
        },
        "papermill": {
          "duration": 188.534362,
          "end_time": "2022-01-24T11:37:08.291128",
          "exception": false,
          "start_time": "2022-01-24T11:33:59.756766",
          "status": "completed"
        },
        "tags": [],
        "id": "6dfb0eef",
        "colab": {
          "base_uri": "https://localhost:8080/"
        },
        "outputId": "24bbc850-41d7-47e0-d776-182eeceb1c07"
      },
      "outputs": [
        {
          "output_type": "execute_result",
          "data": {
            "text/plain": [
              "LinearSVC()"
            ]
          },
          "metadata": {},
          "execution_count": 17
        }
      ],
      "source": [
        "clf = LinearSVC()\n",
        "clf.fit(X_train_tfidf, y_train)"
      ]
    },
    {
      "cell_type": "markdown",
      "source": [
        "# pipeline을 만들어줍니다."
      ],
      "metadata": {
        "id": "C5oH1uQ9kka5"
      },
      "id": "C5oH1uQ9kka5"
    },
    {
      "cell_type": "code",
      "source": [
        "text_clf = Pipeline([('tfidf',TfidfVectorizer()),('clf',LinearSVC())])\n",
        "text_clf.fit(X_train, y_train)"
      ],
      "metadata": {
        "colab": {
          "base_uri": "https://localhost:8080/"
        },
        "id": "97Im8lTakliW",
        "outputId": "38d1cfd6-152f-4620-8ac3-47db8386a393"
      },
      "id": "97Im8lTakliW",
      "execution_count": null,
      "outputs": [
        {
          "output_type": "execute_result",
          "data": {
            "text/plain": [
              "Pipeline(steps=[('tfidf', TfidfVectorizer()), ('clf', LinearSVC())])"
            ]
          },
          "metadata": {},
          "execution_count": 39
        }
      ]
    },
    {
      "cell_type": "markdown",
      "id": "952376f4",
      "metadata": {
        "papermill": {
          "duration": 0.056649,
          "end_time": "2022-01-24T11:37:08.405936",
          "exception": false,
          "start_time": "2022-01-24T11:37:08.349287",
          "status": "completed"
        },
        "tags": [],
        "id": "952376f4"
      },
      "source": [
        "# testdata 불러와서 제출파일 만들기"
      ]
    },
    {
      "cell_type": "code",
      "source": [
        "submission = pd.read_csv('/content/drive/MyDrive/2022 big_data/dataset/MBTI_test.csv', names = ['posts'])"
      ],
      "metadata": {
        "id": "WNIbcYBjR3Ix"
      },
      "id": "WNIbcYBjR3Ix",
      "execution_count": null,
      "outputs": []
    },
    {
      "cell_type": "markdown",
      "source": [
        "불러온 데이터를 학습시켜줍니다."
      ],
      "metadata": {
        "id": "QY8z2iTDoR3M"
      },
      "id": "QY8z2iTDoR3M"
    },
    {
      "cell_type": "code",
      "source": [
        "test = submission['posts']\n",
        "predictions = text_clf.predict(test)"
      ],
      "metadata": {
        "id": "-nw9ur50SdS4"
      },
      "id": "-nw9ur50SdS4",
      "execution_count": null,
      "outputs": []
    },
    {
      "cell_type": "markdown",
      "source": [
        "예측결과가 잘 나왔는지 확인해봅니다."
      ],
      "metadata": {
        "id": "mDYjKKzJoXu2"
      },
      "id": "mDYjKKzJoXu2"
    },
    {
      "cell_type": "code",
      "source": [
        "predictions"
      ],
      "metadata": {
        "colab": {
          "base_uri": "https://localhost:8080/"
        },
        "id": "hKKwhB3uSrpX",
        "outputId": "c3818465-9232-42e3-ea91-0dd5fab8172b"
      },
      "id": "hKKwhB3uSrpX",
      "execution_count": null,
      "outputs": [
        {
          "output_type": "execute_result",
          "data": {
            "text/plain": [
              "array(['ENFP', 'ENTP', 'INTJ', ..., 'INTP', 'ENFP', 'INFP'], dtype=object)"
            ]
          },
          "metadata": {},
          "execution_count": 47
        }
      ]
    },
    {
      "cell_type": "markdown",
      "source": [
        "나온 결과를 저장해줍니다."
      ],
      "metadata": {
        "id": "-9fYLiPJoc_R"
      },
      "id": "-9fYLiPJoc_R"
    },
    {
      "cell_type": "code",
      "source": [
        "testdf = pd.DataFrame(predictions)\n",
        " \n",
        "testdf.to_csv('test.csv', index=False)"
      ],
      "metadata": {
        "id": "U9L76KSZokpm"
      },
      "id": "U9L76KSZokpm",
      "execution_count": null,
      "outputs": []
    },
    {
      "cell_type": "code",
      "source": [
        ""
      ],
      "metadata": {
        "id": "ShsRtytZo-GG"
      },
      "id": "ShsRtytZo-GG",
      "execution_count": null,
      "outputs": []
    },
    {
      "cell_type": "code",
      "source": [
        "submission['type'] = predictions\n",
        "submission = submission.drop('posts', axis = 1)"
      ],
      "metadata": {
        "id": "aVpVHZSwSr1n"
      },
      "id": "aVpVHZSwSr1n",
      "execution_count": null,
      "outputs": []
    },
    {
      "cell_type": "code",
      "source": [
        "submission['posts'] = test \n",
        "submission"
      ],
      "metadata": {
        "colab": {
          "base_uri": "https://localhost:8080/",
          "height": 423
        },
        "id": "Zzl2NIyDSjJ_",
        "outputId": "5c4bdcb2-8a9f-477b-a576-3cf94f3628e7"
      },
      "id": "Zzl2NIyDSjJ_",
      "execution_count": null,
      "outputs": [
        {
          "output_type": "execute_result",
          "data": {
            "text/html": [
              "\n",
              "  <div id=\"df-a783fa45-93ca-4c3d-ac24-4657de5e9293\">\n",
              "    <div class=\"colab-df-container\">\n",
              "      <div>\n",
              "<style scoped>\n",
              "    .dataframe tbody tr th:only-of-type {\n",
              "        vertical-align: middle;\n",
              "    }\n",
              "\n",
              "    .dataframe tbody tr th {\n",
              "        vertical-align: top;\n",
              "    }\n",
              "\n",
              "    .dataframe thead th {\n",
              "        text-align: right;\n",
              "    }\n",
              "</style>\n",
              "<table border=\"1\" class=\"dataframe\">\n",
              "  <thead>\n",
              "    <tr style=\"text-align: right;\">\n",
              "      <th></th>\n",
              "      <th>type</th>\n",
              "      <th>posts</th>\n",
              "    </tr>\n",
              "  </thead>\n",
              "  <tbody>\n",
              "    <tr>\n",
              "      <th>0</th>\n",
              "      <td>ENFP</td>\n",
              "      <td>get accept ya bite well stop important open lo...</td>\n",
              "    </tr>\n",
              "    <tr>\n",
              "      <th>1</th>\n",
              "      <td>ENTP</td>\n",
              "      <td>offer rebel something war people friend block ...</td>\n",
              "    </tr>\n",
              "    <tr>\n",
              "      <th>2</th>\n",
              "      <td>INTJ</td>\n",
              "      <td>soulmates contradiction easy basic recurrence ...</td>\n",
              "    </tr>\n",
              "    <tr>\n",
              "      <th>3</th>\n",
              "      <td>INTJ</td>\n",
              "      <td>run nature q test let sound sarcastically irri...</td>\n",
              "    </tr>\n",
              "    <tr>\n",
              "      <th>4</th>\n",
              "      <td>INTJ</td>\n",
              "      <td>hour fast fast suspend see strict wampum eight...</td>\n",
              "    </tr>\n",
              "    <tr>\n",
              "      <th>...</th>\n",
              "      <td>...</td>\n",
              "      <td>...</td>\n",
              "    </tr>\n",
              "    <tr>\n",
              "      <th>9332</th>\n",
              "      <td>ENTP</td>\n",
              "      <td>increase thing liquor analyze partner consider...</td>\n",
              "    </tr>\n",
              "    <tr>\n",
              "      <th>9333</th>\n",
              "      <td>ENTP</td>\n",
              "      <td>senior vote wide shame learn talk problem broo...</td>\n",
              "    </tr>\n",
              "    <tr>\n",
              "      <th>9334</th>\n",
              "      <td>INTP</td>\n",
              "      <td>want relate top understand think read generate...</td>\n",
              "    </tr>\n",
              "    <tr>\n",
              "      <th>9335</th>\n",
              "      <td>ENFP</td>\n",
              "      <td>alot set intjs soooo alone ease cherish anothe...</td>\n",
              "    </tr>\n",
              "    <tr>\n",
              "      <th>9336</th>\n",
              "      <td>INFP</td>\n",
              "      <td>absent absolutely test recourse belong pe get ...</td>\n",
              "    </tr>\n",
              "  </tbody>\n",
              "</table>\n",
              "<p>9337 rows × 2 columns</p>\n",
              "</div>\n",
              "      <button class=\"colab-df-convert\" onclick=\"convertToInteractive('df-a783fa45-93ca-4c3d-ac24-4657de5e9293')\"\n",
              "              title=\"Convert this dataframe to an interactive table.\"\n",
              "              style=\"display:none;\">\n",
              "        \n",
              "  <svg xmlns=\"http://www.w3.org/2000/svg\" height=\"24px\"viewBox=\"0 0 24 24\"\n",
              "       width=\"24px\">\n",
              "    <path d=\"M0 0h24v24H0V0z\" fill=\"none\"/>\n",
              "    <path d=\"M18.56 5.44l.94 2.06.94-2.06 2.06-.94-2.06-.94-.94-2.06-.94 2.06-2.06.94zm-11 1L8.5 8.5l.94-2.06 2.06-.94-2.06-.94L8.5 2.5l-.94 2.06-2.06.94zm10 10l.94 2.06.94-2.06 2.06-.94-2.06-.94-.94-2.06-.94 2.06-2.06.94z\"/><path d=\"M17.41 7.96l-1.37-1.37c-.4-.4-.92-.59-1.43-.59-.52 0-1.04.2-1.43.59L10.3 9.45l-7.72 7.72c-.78.78-.78 2.05 0 2.83L4 21.41c.39.39.9.59 1.41.59.51 0 1.02-.2 1.41-.59l7.78-7.78 2.81-2.81c.8-.78.8-2.07 0-2.86zM5.41 20L4 18.59l7.72-7.72 1.47 1.35L5.41 20z\"/>\n",
              "  </svg>\n",
              "      </button>\n",
              "      \n",
              "  <style>\n",
              "    .colab-df-container {\n",
              "      display:flex;\n",
              "      flex-wrap:wrap;\n",
              "      gap: 12px;\n",
              "    }\n",
              "\n",
              "    .colab-df-convert {\n",
              "      background-color: #E8F0FE;\n",
              "      border: none;\n",
              "      border-radius: 50%;\n",
              "      cursor: pointer;\n",
              "      display: none;\n",
              "      fill: #1967D2;\n",
              "      height: 32px;\n",
              "      padding: 0 0 0 0;\n",
              "      width: 32px;\n",
              "    }\n",
              "\n",
              "    .colab-df-convert:hover {\n",
              "      background-color: #E2EBFA;\n",
              "      box-shadow: 0px 1px 2px rgba(60, 64, 67, 0.3), 0px 1px 3px 1px rgba(60, 64, 67, 0.15);\n",
              "      fill: #174EA6;\n",
              "    }\n",
              "\n",
              "    [theme=dark] .colab-df-convert {\n",
              "      background-color: #3B4455;\n",
              "      fill: #D2E3FC;\n",
              "    }\n",
              "\n",
              "    [theme=dark] .colab-df-convert:hover {\n",
              "      background-color: #434B5C;\n",
              "      box-shadow: 0px 1px 3px 1px rgba(0, 0, 0, 0.15);\n",
              "      filter: drop-shadow(0px 1px 2px rgba(0, 0, 0, 0.3));\n",
              "      fill: #FFFFFF;\n",
              "    }\n",
              "  </style>\n",
              "\n",
              "      <script>\n",
              "        const buttonEl =\n",
              "          document.querySelector('#df-a783fa45-93ca-4c3d-ac24-4657de5e9293 button.colab-df-convert');\n",
              "        buttonEl.style.display =\n",
              "          google.colab.kernel.accessAllowed ? 'block' : 'none';\n",
              "\n",
              "        async function convertToInteractive(key) {\n",
              "          const element = document.querySelector('#df-a783fa45-93ca-4c3d-ac24-4657de5e9293');\n",
              "          const dataTable =\n",
              "            await google.colab.kernel.invokeFunction('convertToInteractive',\n",
              "                                                     [key], {});\n",
              "          if (!dataTable) return;\n",
              "\n",
              "          const docLinkHtml = 'Like what you see? Visit the ' +\n",
              "            '<a target=\"_blank\" href=https://colab.research.google.com/notebooks/data_table.ipynb>data table notebook</a>'\n",
              "            + ' to learn more about interactive tables.';\n",
              "          element.innerHTML = '';\n",
              "          dataTable['output_type'] = 'display_data';\n",
              "          await google.colab.output.renderOutput(dataTable, element);\n",
              "          const docLink = document.createElement('div');\n",
              "          docLink.innerHTML = docLinkHtml;\n",
              "          element.appendChild(docLink);\n",
              "        }\n",
              "      </script>\n",
              "    </div>\n",
              "  </div>\n",
              "  "
            ],
            "text/plain": [
              "      type                                              posts\n",
              "0     ENFP  get accept ya bite well stop important open lo...\n",
              "1     ENTP  offer rebel something war people friend block ...\n",
              "2     INTJ  soulmates contradiction easy basic recurrence ...\n",
              "3     INTJ  run nature q test let sound sarcastically irri...\n",
              "4     INTJ  hour fast fast suspend see strict wampum eight...\n",
              "...    ...                                                ...\n",
              "9332  ENTP  increase thing liquor analyze partner consider...\n",
              "9333  ENTP  senior vote wide shame learn talk problem broo...\n",
              "9334  INTP  want relate top understand think read generate...\n",
              "9335  ENFP  alot set intjs soooo alone ease cherish anothe...\n",
              "9336  INFP  absent absolutely test recourse belong pe get ...\n",
              "\n",
              "[9337 rows x 2 columns]"
            ]
          },
          "metadata": {},
          "execution_count": 50
        }
      ]
    },
    {
      "cell_type": "code",
      "source": [
        "submission.to_csv('svm_1.csv', index=False)"
      ],
      "metadata": {
        "id": "FiaH3lAJTBCx"
      },
      "id": "FiaH3lAJTBCx",
      "execution_count": null,
      "outputs": []
    },
    {
      "cell_type": "code",
      "source": [
        "submission"
      ],
      "metadata": {
        "colab": {
          "base_uri": "https://localhost:8080/",
          "height": 423
        },
        "id": "IbXHW4GOXLqm",
        "outputId": "1d962ce1-5cda-478f-b441-afafc6f95abe"
      },
      "id": "IbXHW4GOXLqm",
      "execution_count": null,
      "outputs": [
        {
          "output_type": "execute_result",
          "data": {
            "text/html": [
              "\n",
              "  <div id=\"df-b8635775-2852-4a02-abdf-f8e7b46f6498\">\n",
              "    <div class=\"colab-df-container\">\n",
              "      <div>\n",
              "<style scoped>\n",
              "    .dataframe tbody tr th:only-of-type {\n",
              "        vertical-align: middle;\n",
              "    }\n",
              "\n",
              "    .dataframe tbody tr th {\n",
              "        vertical-align: top;\n",
              "    }\n",
              "\n",
              "    .dataframe thead th {\n",
              "        text-align: right;\n",
              "    }\n",
              "</style>\n",
              "<table border=\"1\" class=\"dataframe\">\n",
              "  <thead>\n",
              "    <tr style=\"text-align: right;\">\n",
              "      <th></th>\n",
              "      <th>type</th>\n",
              "      <th>posts</th>\n",
              "    </tr>\n",
              "  </thead>\n",
              "  <tbody>\n",
              "    <tr>\n",
              "      <th>0</th>\n",
              "      <td>ENFP</td>\n",
              "      <td>get accept ya bite well stop important open lo...</td>\n",
              "    </tr>\n",
              "    <tr>\n",
              "      <th>1</th>\n",
              "      <td>ENTP</td>\n",
              "      <td>offer rebel something war people friend block ...</td>\n",
              "    </tr>\n",
              "    <tr>\n",
              "      <th>2</th>\n",
              "      <td>INTJ</td>\n",
              "      <td>soulmates contradiction easy basic recurrence ...</td>\n",
              "    </tr>\n",
              "    <tr>\n",
              "      <th>3</th>\n",
              "      <td>INTJ</td>\n",
              "      <td>run nature q test let sound sarcastically irri...</td>\n",
              "    </tr>\n",
              "    <tr>\n",
              "      <th>4</th>\n",
              "      <td>INTJ</td>\n",
              "      <td>hour fast fast suspend see strict wampum eight...</td>\n",
              "    </tr>\n",
              "    <tr>\n",
              "      <th>...</th>\n",
              "      <td>...</td>\n",
              "      <td>...</td>\n",
              "    </tr>\n",
              "    <tr>\n",
              "      <th>9332</th>\n",
              "      <td>ENTP</td>\n",
              "      <td>increase thing liquor analyze partner consider...</td>\n",
              "    </tr>\n",
              "    <tr>\n",
              "      <th>9333</th>\n",
              "      <td>ENTP</td>\n",
              "      <td>senior vote wide shame learn talk problem broo...</td>\n",
              "    </tr>\n",
              "    <tr>\n",
              "      <th>9334</th>\n",
              "      <td>INTP</td>\n",
              "      <td>want relate top understand think read generate...</td>\n",
              "    </tr>\n",
              "    <tr>\n",
              "      <th>9335</th>\n",
              "      <td>ENFP</td>\n",
              "      <td>alot set intjs soooo alone ease cherish anothe...</td>\n",
              "    </tr>\n",
              "    <tr>\n",
              "      <th>9336</th>\n",
              "      <td>INFP</td>\n",
              "      <td>absent absolutely test recourse belong pe get ...</td>\n",
              "    </tr>\n",
              "  </tbody>\n",
              "</table>\n",
              "<p>9337 rows × 2 columns</p>\n",
              "</div>\n",
              "      <button class=\"colab-df-convert\" onclick=\"convertToInteractive('df-b8635775-2852-4a02-abdf-f8e7b46f6498')\"\n",
              "              title=\"Convert this dataframe to an interactive table.\"\n",
              "              style=\"display:none;\">\n",
              "        \n",
              "  <svg xmlns=\"http://www.w3.org/2000/svg\" height=\"24px\"viewBox=\"0 0 24 24\"\n",
              "       width=\"24px\">\n",
              "    <path d=\"M0 0h24v24H0V0z\" fill=\"none\"/>\n",
              "    <path d=\"M18.56 5.44l.94 2.06.94-2.06 2.06-.94-2.06-.94-.94-2.06-.94 2.06-2.06.94zm-11 1L8.5 8.5l.94-2.06 2.06-.94-2.06-.94L8.5 2.5l-.94 2.06-2.06.94zm10 10l.94 2.06.94-2.06 2.06-.94-2.06-.94-.94-2.06-.94 2.06-2.06.94z\"/><path d=\"M17.41 7.96l-1.37-1.37c-.4-.4-.92-.59-1.43-.59-.52 0-1.04.2-1.43.59L10.3 9.45l-7.72 7.72c-.78.78-.78 2.05 0 2.83L4 21.41c.39.39.9.59 1.41.59.51 0 1.02-.2 1.41-.59l7.78-7.78 2.81-2.81c.8-.78.8-2.07 0-2.86zM5.41 20L4 18.59l7.72-7.72 1.47 1.35L5.41 20z\"/>\n",
              "  </svg>\n",
              "      </button>\n",
              "      \n",
              "  <style>\n",
              "    .colab-df-container {\n",
              "      display:flex;\n",
              "      flex-wrap:wrap;\n",
              "      gap: 12px;\n",
              "    }\n",
              "\n",
              "    .colab-df-convert {\n",
              "      background-color: #E8F0FE;\n",
              "      border: none;\n",
              "      border-radius: 50%;\n",
              "      cursor: pointer;\n",
              "      display: none;\n",
              "      fill: #1967D2;\n",
              "      height: 32px;\n",
              "      padding: 0 0 0 0;\n",
              "      width: 32px;\n",
              "    }\n",
              "\n",
              "    .colab-df-convert:hover {\n",
              "      background-color: #E2EBFA;\n",
              "      box-shadow: 0px 1px 2px rgba(60, 64, 67, 0.3), 0px 1px 3px 1px rgba(60, 64, 67, 0.15);\n",
              "      fill: #174EA6;\n",
              "    }\n",
              "\n",
              "    [theme=dark] .colab-df-convert {\n",
              "      background-color: #3B4455;\n",
              "      fill: #D2E3FC;\n",
              "    }\n",
              "\n",
              "    [theme=dark] .colab-df-convert:hover {\n",
              "      background-color: #434B5C;\n",
              "      box-shadow: 0px 1px 3px 1px rgba(0, 0, 0, 0.15);\n",
              "      filter: drop-shadow(0px 1px 2px rgba(0, 0, 0, 0.3));\n",
              "      fill: #FFFFFF;\n",
              "    }\n",
              "  </style>\n",
              "\n",
              "      <script>\n",
              "        const buttonEl =\n",
              "          document.querySelector('#df-b8635775-2852-4a02-abdf-f8e7b46f6498 button.colab-df-convert');\n",
              "        buttonEl.style.display =\n",
              "          google.colab.kernel.accessAllowed ? 'block' : 'none';\n",
              "\n",
              "        async function convertToInteractive(key) {\n",
              "          const element = document.querySelector('#df-b8635775-2852-4a02-abdf-f8e7b46f6498');\n",
              "          const dataTable =\n",
              "            await google.colab.kernel.invokeFunction('convertToInteractive',\n",
              "                                                     [key], {});\n",
              "          if (!dataTable) return;\n",
              "\n",
              "          const docLinkHtml = 'Like what you see? Visit the ' +\n",
              "            '<a target=\"_blank\" href=https://colab.research.google.com/notebooks/data_table.ipynb>data table notebook</a>'\n",
              "            + ' to learn more about interactive tables.';\n",
              "          element.innerHTML = '';\n",
              "          dataTable['output_type'] = 'display_data';\n",
              "          await google.colab.output.renderOutput(dataTable, element);\n",
              "          const docLink = document.createElement('div');\n",
              "          docLink.innerHTML = docLinkHtml;\n",
              "          element.appendChild(docLink);\n",
              "        }\n",
              "      </script>\n",
              "    </div>\n",
              "  </div>\n",
              "  "
            ],
            "text/plain": [
              "      type                                              posts\n",
              "0     ENFP  get accept ya bite well stop important open lo...\n",
              "1     ENTP  offer rebel something war people friend block ...\n",
              "2     INTJ  soulmates contradiction easy basic recurrence ...\n",
              "3     INTJ  run nature q test let sound sarcastically irri...\n",
              "4     INTJ  hour fast fast suspend see strict wampum eight...\n",
              "...    ...                                                ...\n",
              "9332  ENTP  increase thing liquor analyze partner consider...\n",
              "9333  ENTP  senior vote wide shame learn talk problem broo...\n",
              "9334  INTP  want relate top understand think read generate...\n",
              "9335  ENFP  alot set intjs soooo alone ease cherish anothe...\n",
              "9336  INFP  absent absolutely test recourse belong pe get ...\n",
              "\n",
              "[9337 rows x 2 columns]"
            ]
          },
          "metadata": {},
          "execution_count": 52
        }
      ]
    },
    {
      "cell_type": "markdown",
      "source": [
        "제출 결과 test dataset에서 accuracy 96%를 보였습니다.\n",
        "\n",
        "이 결과로 본선진출에 성공할 수 있었습니다."
      ],
      "metadata": {
        "id": "63bCy7N3LIds"
      },
      "id": "63bCy7N3LIds"
    },
    {
      "cell_type": "markdown",
      "id": "29b0f550",
      "metadata": {
        "papermill": {
          "duration": 0.062979,
          "end_time": "2022-01-24T11:37:23.553490",
          "exception": false,
          "start_time": "2022-01-24T11:37:23.490511",
          "status": "completed"
        },
        "tags": [],
        "id": "29b0f550"
      },
      "source": [
        "# End"
      ]
    }
  ],
  "metadata": {
    "kernelspec": {
      "display_name": "Python 3",
      "language": "python",
      "name": "python3"
    },
    "language_info": {
      "codemirror_mode": {
        "name": "ipython",
        "version": 3
      },
      "file_extension": ".py",
      "mimetype": "text/x-python",
      "name": "python",
      "nbconvert_exporter": "python",
      "pygments_lexer": "ipython3",
      "version": "3.7.12"
    },
    "papermill": {
      "default_parameters": {},
      "duration": 247.963482,
      "end_time": "2022-01-24T11:37:26.913576",
      "environment_variables": {},
      "exception": null,
      "input_path": "__notebook__.ipynb",
      "output_path": "__notebook__.ipynb",
      "parameters": {},
      "start_time": "2022-01-24T11:33:18.950094",
      "version": "2.3.3"
    },
    "colab": {
      "name": "체종제출_team_17.ipynb",
      "provenance": [],
      "include_colab_link": true
    }
  },
  "nbformat": 4,
  "nbformat_minor": 5
}